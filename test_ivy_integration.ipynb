{
 "cells": [
  {
   "cell_type": "code",
   "execution_count": null,
   "metadata": {},
   "outputs": [],
   "source": [
    "from thinc.api import IvyWrapper, Adam, CategoricalCrossentropy"
   ]
  },
  {
   "cell_type": "code",
   "execution_count": null,
   "metadata": {},
   "outputs": [],
   "source": [
    "import ivy"
   ]
  },
  {
   "cell_type": "code",
   "execution_count": null,
   "metadata": {},
   "outputs": [],
   "source": [
    "import ml_datasets\n",
    "from tqdm import tqdm"
   ]
  },
  {
   "cell_type": "code",
   "execution_count": null,
   "metadata": {},
   "outputs": [],
   "source": [
    "(train_X, train_Y), (dev_X, dev_Y) = ml_datasets.mnist()\n",
    "print(f\"Training size={len(train_X)}, dev size={len(dev_X)}\")"
   ]
  },
  {
   "cell_type": "code",
   "execution_count": null,
   "metadata": {},
   "outputs": [],
   "source": [
    "def train_model(data, model, optimizer, n_iter, batch_size):\n",
    "    (train_X, train_Y), (dev_X, dev_Y) = data\n",
    "    indices = model.ops.xp.arange(train_X.shape[0], dtype=\"i\")\n",
    "    for i in range(n_iter):\n",
    "        batches = model.ops.multibatch(batch_size, train_X, train_Y, shuffle=True)\n",
    "        for X, Y in tqdm(batches, leave=False):\n",
    "            Yh, backprop = model.begin_update(X)\n",
    "            backprop(Yh - Y)\n",
    "            model.finish_update(optimizer)\n",
    "        # Evaluate and print progress\n",
    "        correct = 0\n",
    "        total = 0\n",
    "        for X, Y in model.ops.multibatch(batch_size, dev_X, dev_Y):\n",
    "            Yh = model.predict(X)\n",
    "            correct += (Yh.argmax(axis=1) == Y.argmax(axis=1)).sum()\n",
    "            total += Yh.shape[0]\n",
    "        score = correct / total\n",
    "        print(f\" {i} {float(score):.3f}\")"
   ]
  },
  {
   "cell_type": "code",
   "execution_count": null,
   "metadata": {},
   "outputs": [],
   "source": [
    "width = 32\n",
    "nO = 10\n",
    "nI = 784\n",
    "dropout = 0.2"
   ]
  },
  {
   "cell_type": "code",
   "execution_count": null,
   "metadata": {},
   "outputs": [],
   "source": [
    "class Regressor(ivy.Module):\n",
    "    def __init__(self, width, nO, nI, dropout):\n",
    "        self.nO = nO\n",
    "        self.nI = nI\n",
    "        self.dropout = dropout\n",
    "        self.width = width\n",
    "        super().__init__()\n",
    "\n",
    "    def _build(self, *args, **kwargs):\n",
    "        self.dropout1 = ivy.Dropout(self.dropout)\n",
    "        self.dropout2 = ivy.Dropout(self.dropout)\n",
    "        self.fc1 = ivy.Linear(self.nI, self.width)\n",
    "        self.fc2 = ivy.Linear(self.width, self.nO)\n",
    "\n",
    "    def _forward(self, x):\n",
    "        x = ivy.relu(x)\n",
    "        x = self.dropout1(x)\n",
    "        x = self.fc1(x)\n",
    "        x = ivy.relu(x)\n",
    "        x = self.dropout2(x)\n",
    "        x = self.fc2(x)\n",
    "        output = ivy.log_softmax(x, axis=1)\n",
    "        return output"
   ]
  },
  {
   "cell_type": "code",
   "execution_count": null,
   "metadata": {},
   "outputs": [],
   "source": [
    "model = IvyWrapper(\n",
    "    Regressor(width, nO, nI, dropout),\n",
    "    )"
   ]
  },
  {
   "cell_type": "code",
   "execution_count": 9,
   "metadata": {},
   "outputs": [
    {
     "name": "stdout",
     "output_type": "stream",
     "text": [
      "\u001b[34m{\u001b[0m\n",
      "    \u001b[32mfc1__b\u001b[0m\u001b[35m:\u001b[0m ivy.array(27),\n",
      "    \u001b[32mfc1__w\u001b[0m\u001b[35m:\u001b[0m ivy.array(24638),\n",
      "    \u001b[32mfc2__b\u001b[0m\u001b[35m:\u001b[0m ivy.array(0),\n",
      "    \u001b[32mfc2__w\u001b[0m\u001b[35m:\u001b[0m ivy.array(281)\n",
      "\u001b[34m}\u001b[0m\n"
     ]
    },
    {
     "name": "stderr",
     "output_type": "stream",
     "text": [
      " 81%|████████  | 341/422 [10:53<02:42,  2.01s/it]"
     ]
    },
    {
     "name": "stdout",
     "output_type": "stream",
     "text": [
      "\u001b[34m{\u001b[0m\n",
      "    \u001b[32mfc1__b\u001b[0m\u001b[35m:\u001b[0m ivy.array(27),\n",
      "    \u001b[32mfc1__w\u001b[0m\u001b[35m:\u001b[0m ivy.array(24639),\n",
      "    \u001b[32mfc2__b\u001b[0m\u001b[35m:\u001b[0m ivy.array(0),\n",
      "    \u001b[32mfc2__w\u001b[0m\u001b[35m:\u001b[0m ivy.array(281)\n",
      "\u001b[34m}\u001b[0m\n"
     ]
    },
    {
     "name": "stderr",
     "output_type": "stream",
     "text": [
      " 81%|████████  | 342/422 [10:55<02:38,  1.98s/it]"
     ]
    },
    {
     "name": "stdout",
     "output_type": "stream",
     "text": [
      "\u001b[34m{\u001b[0m\n",
      "    \u001b[32mfc1__b\u001b[0m\u001b[35m:\u001b[0m ivy.array(27),\n",
      "    \u001b[32mfc1__w\u001b[0m\u001b[35m:\u001b[0m ivy.array(24640),\n",
      "    \u001b[32mfc2__b\u001b[0m\u001b[35m:\u001b[0m ivy.array(0),\n",
      "    \u001b[32mfc2__w\u001b[0m\u001b[35m:\u001b[0m ivy.array(281)\n",
      "\u001b[34m}\u001b[0m\n"
     ]
    },
    {
     "name": "stderr",
     "output_type": "stream",
     "text": [
      " 81%|████████▏ | 343/422 [10:56<02:29,  1.89s/it]"
     ]
    },
    {
     "name": "stdout",
     "output_type": "stream",
     "text": [
      "\u001b[34m{\u001b[0m\n",
      "    \u001b[32mfc1__b\u001b[0m\u001b[35m:\u001b[0m ivy.array(26),\n",
      "    \u001b[32mfc1__w\u001b[0m\u001b[35m:\u001b[0m ivy.array(24579),\n",
      "    \u001b[32mfc2__b\u001b[0m\u001b[35m:\u001b[0m ivy.array(0),\n",
      "    \u001b[32mfc2__w\u001b[0m\u001b[35m:\u001b[0m ivy.array(271)\n",
      "\u001b[34m}\u001b[0m\n"
     ]
    },
    {
     "name": "stderr",
     "output_type": "stream",
     "text": [
      " 82%|████████▏ | 344/422 [10:58<02:20,  1.81s/it]"
     ]
    },
    {
     "name": "stdout",
     "output_type": "stream",
     "text": [
      "\u001b[34m{\u001b[0m\n",
      "    \u001b[32mfc1__b\u001b[0m\u001b[35m:\u001b[0m ivy.array(26),\n",
      "    \u001b[32mfc1__w\u001b[0m\u001b[35m:\u001b[0m ivy.array(24580),\n",
      "    \u001b[32mfc2__b\u001b[0m\u001b[35m:\u001b[0m ivy.array(0),\n",
      "    \u001b[32mfc2__w\u001b[0m\u001b[35m:\u001b[0m ivy.array(271)\n",
      "\u001b[34m}\u001b[0m\n"
     ]
    },
    {
     "name": "stderr",
     "output_type": "stream",
     "text": [
      " 82%|████████▏ | 345/422 [11:00<02:28,  1.93s/it]"
     ]
    },
    {
     "name": "stdout",
     "output_type": "stream",
     "text": [
      "\u001b[34m{\u001b[0m\n",
      "    \u001b[32mfc1__b\u001b[0m\u001b[35m:\u001b[0m ivy.array(26),\n",
      "    \u001b[32mfc1__w\u001b[0m\u001b[35m:\u001b[0m ivy.array(24593),\n",
      "    \u001b[32mfc2__b\u001b[0m\u001b[35m:\u001b[0m ivy.array(0),\n",
      "    \u001b[32mfc2__w\u001b[0m\u001b[35m:\u001b[0m ivy.array(271)\n",
      "\u001b[34m}\u001b[0m\n"
     ]
    },
    {
     "name": "stderr",
     "output_type": "stream",
     "text": [
      " 82%|████████▏ | 346/422 [11:02<02:29,  1.97s/it]"
     ]
    },
    {
     "name": "stdout",
     "output_type": "stream",
     "text": [
      "\u001b[34m{\u001b[0m\n",
      "    \u001b[32mfc1__b\u001b[0m\u001b[35m:\u001b[0m ivy.array(26),\n",
      "    \u001b[32mfc1__w\u001b[0m\u001b[35m:\u001b[0m ivy.array(24610),\n",
      "    \u001b[32mfc2__b\u001b[0m\u001b[35m:\u001b[0m ivy.array(0),\n",
      "    \u001b[32mfc2__w\u001b[0m\u001b[35m:\u001b[0m ivy.array(271)\n",
      "\u001b[34m}\u001b[0m\n"
     ]
    },
    {
     "name": "stderr",
     "output_type": "stream",
     "text": [
      " 82%|████████▏ | 347/422 [11:04<02:19,  1.86s/it]"
     ]
    },
    {
     "name": "stdout",
     "output_type": "stream",
     "text": [
      "\u001b[34m{\u001b[0m\n",
      "    \u001b[32mfc1__b\u001b[0m\u001b[35m:\u001b[0m ivy.array(26),\n",
      "    \u001b[32mfc1__w\u001b[0m\u001b[35m:\u001b[0m ivy.array(24613),\n",
      "    \u001b[32mfc2__b\u001b[0m\u001b[35m:\u001b[0m ivy.array(0),\n",
      "    \u001b[32mfc2__w\u001b[0m\u001b[35m:\u001b[0m ivy.array(271)\n",
      "\u001b[34m}\u001b[0m\n"
     ]
    },
    {
     "name": "stderr",
     "output_type": "stream",
     "text": [
      " 82%|████████▏ | 348/422 [11:06<02:15,  1.83s/it]"
     ]
    },
    {
     "name": "stdout",
     "output_type": "stream",
     "text": [
      "\u001b[34m{\u001b[0m\n",
      "    \u001b[32mfc1__b\u001b[0m\u001b[35m:\u001b[0m ivy.array(26),\n",
      "    \u001b[32mfc1__w\u001b[0m\u001b[35m:\u001b[0m ivy.array(24614),\n",
      "    \u001b[32mfc2__b\u001b[0m\u001b[35m:\u001b[0m ivy.array(0),\n",
      "    \u001b[32mfc2__w\u001b[0m\u001b[35m:\u001b[0m ivy.array(271)\n",
      "\u001b[34m}\u001b[0m\n"
     ]
    },
    {
     "name": "stderr",
     "output_type": "stream",
     "text": [
      " 83%|████████▎ | 349/422 [11:07<02:15,  1.86s/it]"
     ]
    },
    {
     "name": "stdout",
     "output_type": "stream",
     "text": [
      "\u001b[34m{\u001b[0m\n",
      "    \u001b[32mfc1__b\u001b[0m\u001b[35m:\u001b[0m ivy.array(26),\n",
      "    \u001b[32mfc1__w\u001b[0m\u001b[35m:\u001b[0m ivy.array(24614),\n",
      "    \u001b[32mfc2__b\u001b[0m\u001b[35m:\u001b[0m ivy.array(0),\n",
      "    \u001b[32mfc2__w\u001b[0m\u001b[35m:\u001b[0m ivy.array(271)\n",
      "\u001b[34m}\u001b[0m\n"
     ]
    },
    {
     "name": "stderr",
     "output_type": "stream",
     "text": [
      " 83%|████████▎ | 350/422 [11:10<02:17,  1.92s/it]"
     ]
    },
    {
     "name": "stdout",
     "output_type": "stream",
     "text": [
      "\u001b[34m{\u001b[0m\n",
      "    \u001b[32mfc1__b\u001b[0m\u001b[35m:\u001b[0m ivy.array(26),\n",
      "    \u001b[32mfc1__w\u001b[0m\u001b[35m:\u001b[0m ivy.array(24614),\n",
      "    \u001b[32mfc2__b\u001b[0m\u001b[35m:\u001b[0m ivy.array(0),\n",
      "    \u001b[32mfc2__w\u001b[0m\u001b[35m:\u001b[0m ivy.array(271)\n",
      "\u001b[34m}\u001b[0m\n"
     ]
    },
    {
     "name": "stderr",
     "output_type": "stream",
     "text": [
      " 83%|████████▎ | 351/422 [11:11<02:10,  1.84s/it]"
     ]
    },
    {
     "name": "stdout",
     "output_type": "stream",
     "text": [
      "\u001b[34m{\u001b[0m\n",
      "    \u001b[32mfc1__b\u001b[0m\u001b[35m:\u001b[0m ivy.array(26),\n",
      "    \u001b[32mfc1__w\u001b[0m\u001b[35m:\u001b[0m ivy.array(24619),\n",
      "    \u001b[32mfc2__b\u001b[0m\u001b[35m:\u001b[0m ivy.array(0),\n",
      "    \u001b[32mfc2__w\u001b[0m\u001b[35m:\u001b[0m ivy.array(271)\n",
      "\u001b[34m}\u001b[0m\n"
     ]
    },
    {
     "name": "stderr",
     "output_type": "stream",
     "text": [
      " 83%|████████▎ | 352/422 [11:13<02:04,  1.78s/it]"
     ]
    },
    {
     "name": "stdout",
     "output_type": "stream",
     "text": [
      "\u001b[34m{\u001b[0m\n",
      "    \u001b[32mfc1__b\u001b[0m\u001b[35m:\u001b[0m ivy.array(26),\n",
      "    \u001b[32mfc1__w\u001b[0m\u001b[35m:\u001b[0m ivy.array(24627),\n",
      "    \u001b[32mfc2__b\u001b[0m\u001b[35m:\u001b[0m ivy.array(0),\n",
      "    \u001b[32mfc2__w\u001b[0m\u001b[35m:\u001b[0m ivy.array(271)\n",
      "\u001b[34m}\u001b[0m\n"
     ]
    },
    {
     "name": "stderr",
     "output_type": "stream",
     "text": [
      " 84%|████████▎ | 353/422 [11:15<02:01,  1.75s/it]"
     ]
    },
    {
     "name": "stdout",
     "output_type": "stream",
     "text": [
      "\u001b[34m{\u001b[0m\n",
      "    \u001b[32mfc1__b\u001b[0m\u001b[35m:\u001b[0m ivy.array(25),\n",
      "    \u001b[32mfc1__w\u001b[0m\u001b[35m:\u001b[0m ivy.array(24573),\n",
      "    \u001b[32mfc2__b\u001b[0m\u001b[35m:\u001b[0m ivy.array(0),\n",
      "    \u001b[32mfc2__w\u001b[0m\u001b[35m:\u001b[0m ivy.array(261)\n",
      "\u001b[34m}\u001b[0m\n"
     ]
    },
    {
     "name": "stderr",
     "output_type": "stream",
     "text": [
      " 84%|████████▍ | 354/422 [11:17<02:06,  1.86s/it]"
     ]
    },
    {
     "name": "stdout",
     "output_type": "stream",
     "text": [
      "\u001b[34m{\u001b[0m\n",
      "    \u001b[32mfc1__b\u001b[0m\u001b[35m:\u001b[0m ivy.array(26),\n",
      "    \u001b[32mfc1__w\u001b[0m\u001b[35m:\u001b[0m ivy.array(24574),\n",
      "    \u001b[32mfc2__b\u001b[0m\u001b[35m:\u001b[0m ivy.array(0),\n",
      "    \u001b[32mfc2__w\u001b[0m\u001b[35m:\u001b[0m ivy.array(261)\n",
      "\u001b[34m}\u001b[0m\n"
     ]
    },
    {
     "name": "stderr",
     "output_type": "stream",
     "text": [
      " 84%|████████▍ | 355/422 [11:18<02:00,  1.80s/it]"
     ]
    },
    {
     "name": "stdout",
     "output_type": "stream",
     "text": [
      "\u001b[34m{\u001b[0m\n",
      "    \u001b[32mfc1__b\u001b[0m\u001b[35m:\u001b[0m ivy.array(26),\n",
      "    \u001b[32mfc1__w\u001b[0m\u001b[35m:\u001b[0m ivy.array(24574),\n",
      "    \u001b[32mfc2__b\u001b[0m\u001b[35m:\u001b[0m ivy.array(0),\n",
      "    \u001b[32mfc2__w\u001b[0m\u001b[35m:\u001b[0m ivy.array(261)\n",
      "\u001b[34m}\u001b[0m\n"
     ]
    },
    {
     "name": "stderr",
     "output_type": "stream",
     "text": [
      " 84%|████████▍ | 356/422 [11:20<01:54,  1.74s/it]"
     ]
    },
    {
     "name": "stdout",
     "output_type": "stream",
     "text": [
      "\u001b[34m{\u001b[0m\n",
      "    \u001b[32mfc1__b\u001b[0m\u001b[35m:\u001b[0m ivy.array(26),\n",
      "    \u001b[32mfc1__w\u001b[0m\u001b[35m:\u001b[0m ivy.array(24574),\n",
      "    \u001b[32mfc2__b\u001b[0m\u001b[35m:\u001b[0m ivy.array(0),\n",
      "    \u001b[32mfc2__w\u001b[0m\u001b[35m:\u001b[0m ivy.array(261)\n",
      "\u001b[34m}\u001b[0m\n"
     ]
    },
    {
     "name": "stderr",
     "output_type": "stream",
     "text": [
      " 85%|████████▍ | 357/422 [11:22<01:50,  1.71s/it]"
     ]
    },
    {
     "name": "stdout",
     "output_type": "stream",
     "text": [
      "\u001b[34m{\u001b[0m\n",
      "    \u001b[32mfc1__b\u001b[0m\u001b[35m:\u001b[0m ivy.array(26),\n",
      "    \u001b[32mfc1__w\u001b[0m\u001b[35m:\u001b[0m ivy.array(24575),\n",
      "    \u001b[32mfc2__b\u001b[0m\u001b[35m:\u001b[0m ivy.array(0),\n",
      "    \u001b[32mfc2__w\u001b[0m\u001b[35m:\u001b[0m ivy.array(261)\n",
      "\u001b[34m}\u001b[0m\n"
     ]
    },
    {
     "name": "stderr",
     "output_type": "stream",
     "text": [
      " 85%|████████▍ | 358/422 [11:24<01:56,  1.82s/it]"
     ]
    },
    {
     "name": "stdout",
     "output_type": "stream",
     "text": [
      "\u001b[34m{\u001b[0m\n",
      "    \u001b[32mfc1__b\u001b[0m\u001b[35m:\u001b[0m ivy.array(26),\n",
      "    \u001b[32mfc1__w\u001b[0m\u001b[35m:\u001b[0m ivy.array(24578),\n",
      "    \u001b[32mfc2__b\u001b[0m\u001b[35m:\u001b[0m ivy.array(0),\n",
      "    \u001b[32mfc2__w\u001b[0m\u001b[35m:\u001b[0m ivy.array(261)\n",
      "\u001b[34m}\u001b[0m\n"
     ]
    },
    {
     "name": "stderr",
     "output_type": "stream",
     "text": [
      " 85%|████████▌ | 359/422 [11:25<01:53,  1.80s/it]"
     ]
    },
    {
     "name": "stdout",
     "output_type": "stream",
     "text": [
      "\u001b[34m{\u001b[0m\n",
      "    \u001b[32mfc1__b\u001b[0m\u001b[35m:\u001b[0m ivy.array(26),\n",
      "    \u001b[32mfc1__w\u001b[0m\u001b[35m:\u001b[0m ivy.array(24584),\n",
      "    \u001b[32mfc2__b\u001b[0m\u001b[35m:\u001b[0m ivy.array(0),\n",
      "    \u001b[32mfc2__w\u001b[0m\u001b[35m:\u001b[0m ivy.array(261)\n",
      "\u001b[34m}\u001b[0m\n"
     ]
    },
    {
     "name": "stderr",
     "output_type": "stream",
     "text": [
      " 85%|████████▌ | 360/422 [11:27<01:48,  1.76s/it]"
     ]
    },
    {
     "name": "stdout",
     "output_type": "stream",
     "text": [
      "\u001b[34m{\u001b[0m\n",
      "    \u001b[32mfc1__b\u001b[0m\u001b[35m:\u001b[0m ivy.array(26),\n",
      "    \u001b[32mfc1__w\u001b[0m\u001b[35m:\u001b[0m ivy.array(24586),\n",
      "    \u001b[32mfc2__b\u001b[0m\u001b[35m:\u001b[0m ivy.array(0),\n",
      "    \u001b[32mfc2__w\u001b[0m\u001b[35m:\u001b[0m ivy.array(261)\n",
      "\u001b[34m}\u001b[0m\n"
     ]
    },
    {
     "name": "stderr",
     "output_type": "stream",
     "text": [
      " 86%|████████▌ | 361/422 [11:29<01:50,  1.81s/it]"
     ]
    },
    {
     "name": "stdout",
     "output_type": "stream",
     "text": [
      "\u001b[34m{\u001b[0m\n",
      "    \u001b[32mfc1__b\u001b[0m\u001b[35m:\u001b[0m ivy.array(25),\n",
      "    \u001b[32mfc1__w\u001b[0m\u001b[35m:\u001b[0m ivy.array(24518),\n",
      "    \u001b[32mfc2__b\u001b[0m\u001b[35m:\u001b[0m ivy.array(0),\n",
      "    \u001b[32mfc2__w\u001b[0m\u001b[35m:\u001b[0m ivy.array(251)\n",
      "\u001b[34m}\u001b[0m\n"
     ]
    },
    {
     "name": "stderr",
     "output_type": "stream",
     "text": [
      " 86%|████████▌ | 362/422 [11:31<01:55,  1.93s/it]"
     ]
    },
    {
     "name": "stdout",
     "output_type": "stream",
     "text": [
      "\u001b[34m{\u001b[0m\n",
      "    \u001b[32mfc1__b\u001b[0m\u001b[35m:\u001b[0m ivy.array(25),\n",
      "    \u001b[32mfc1__w\u001b[0m\u001b[35m:\u001b[0m ivy.array(24519),\n",
      "    \u001b[32mfc2__b\u001b[0m\u001b[35m:\u001b[0m ivy.array(0),\n",
      "    \u001b[32mfc2__w\u001b[0m\u001b[35m:\u001b[0m ivy.array(251)\n",
      "\u001b[34m}\u001b[0m\n"
     ]
    },
    {
     "name": "stderr",
     "output_type": "stream",
     "text": [
      " 86%|████████▌ | 363/422 [11:33<01:54,  1.94s/it]"
     ]
    },
    {
     "name": "stdout",
     "output_type": "stream",
     "text": [
      "\u001b[34m{\u001b[0m\n",
      "    \u001b[32mfc1__b\u001b[0m\u001b[35m:\u001b[0m ivy.array(25),\n",
      "    \u001b[32mfc1__w\u001b[0m\u001b[35m:\u001b[0m ivy.array(24522),\n",
      "    \u001b[32mfc2__b\u001b[0m\u001b[35m:\u001b[0m ivy.array(0),\n",
      "    \u001b[32mfc2__w\u001b[0m\u001b[35m:\u001b[0m ivy.array(251)\n",
      "\u001b[34m}\u001b[0m\n"
     ]
    },
    {
     "name": "stderr",
     "output_type": "stream",
     "text": [
      " 86%|████████▋ | 364/422 [11:35<01:47,  1.86s/it]"
     ]
    },
    {
     "name": "stdout",
     "output_type": "stream",
     "text": [
      "\u001b[34m{\u001b[0m\n",
      "    \u001b[32mfc1__b\u001b[0m\u001b[35m:\u001b[0m ivy.array(25),\n",
      "    \u001b[32mfc1__w\u001b[0m\u001b[35m:\u001b[0m ivy.array(24525),\n",
      "    \u001b[32mfc2__b\u001b[0m\u001b[35m:\u001b[0m ivy.array(0),\n",
      "    \u001b[32mfc2__w\u001b[0m\u001b[35m:\u001b[0m ivy.array(251)\n",
      "\u001b[34m}\u001b[0m\n"
     ]
    },
    {
     "name": "stderr",
     "output_type": "stream",
     "text": [
      " 86%|████████▋ | 365/422 [11:36<01:42,  1.81s/it]"
     ]
    },
    {
     "name": "stdout",
     "output_type": "stream",
     "text": [
      "\u001b[34m{\u001b[0m\n",
      "    \u001b[32mfc1__b\u001b[0m\u001b[35m:\u001b[0m ivy.array(25),\n",
      "    \u001b[32mfc1__w\u001b[0m\u001b[35m:\u001b[0m ivy.array(24527),\n",
      "    \u001b[32mfc2__b\u001b[0m\u001b[35m:\u001b[0m ivy.array(0),\n",
      "    \u001b[32mfc2__w\u001b[0m\u001b[35m:\u001b[0m ivy.array(251)\n",
      "\u001b[34m}\u001b[0m\n"
     ]
    },
    {
     "name": "stderr",
     "output_type": "stream",
     "text": [
      " 87%|████████▋ | 366/422 [11:38<01:40,  1.79s/it]"
     ]
    },
    {
     "name": "stdout",
     "output_type": "stream",
     "text": [
      "\u001b[34m{\u001b[0m\n",
      "    \u001b[32mfc1__b\u001b[0m\u001b[35m:\u001b[0m ivy.array(25),\n",
      "    \u001b[32mfc1__w\u001b[0m\u001b[35m:\u001b[0m ivy.array(24531),\n",
      "    \u001b[32mfc2__b\u001b[0m\u001b[35m:\u001b[0m ivy.array(0),\n",
      "    \u001b[32mfc2__w\u001b[0m\u001b[35m:\u001b[0m ivy.array(251)\n",
      "\u001b[34m}\u001b[0m\n"
     ]
    },
    {
     "name": "stderr",
     "output_type": "stream",
     "text": [
      " 87%|████████▋ | 367/422 [11:41<01:47,  1.95s/it]"
     ]
    },
    {
     "name": "stdout",
     "output_type": "stream",
     "text": [
      "\u001b[34m{\u001b[0m\n",
      "    \u001b[32mfc1__b\u001b[0m\u001b[35m:\u001b[0m ivy.array(24),\n",
      "    \u001b[32mfc1__w\u001b[0m\u001b[35m:\u001b[0m ivy.array(24416),\n",
      "    \u001b[32mfc2__b\u001b[0m\u001b[35m:\u001b[0m ivy.array(0),\n",
      "    \u001b[32mfc2__w\u001b[0m\u001b[35m:\u001b[0m ivy.array(241)\n",
      "\u001b[34m}\u001b[0m\n"
     ]
    },
    {
     "name": "stderr",
     "output_type": "stream",
     "text": [
      " 87%|████████▋ | 368/422 [11:42<01:41,  1.88s/it]"
     ]
    },
    {
     "name": "stdout",
     "output_type": "stream",
     "text": [
      "\u001b[34m{\u001b[0m\n",
      "    \u001b[32mfc1__b\u001b[0m\u001b[35m:\u001b[0m ivy.array(24),\n",
      "    \u001b[32mfc1__w\u001b[0m\u001b[35m:\u001b[0m ivy.array(24419),\n",
      "    \u001b[32mfc2__b\u001b[0m\u001b[35m:\u001b[0m ivy.array(0),\n",
      "    \u001b[32mfc2__w\u001b[0m\u001b[35m:\u001b[0m ivy.array(241)\n",
      "\u001b[34m}\u001b[0m\n"
     ]
    },
    {
     "name": "stderr",
     "output_type": "stream",
     "text": [
      " 87%|████████▋ | 369/422 [11:44<01:34,  1.78s/it]"
     ]
    },
    {
     "name": "stdout",
     "output_type": "stream",
     "text": [
      "\u001b[34m{\u001b[0m\n",
      "    \u001b[32mfc1__b\u001b[0m\u001b[35m:\u001b[0m ivy.array(23),\n",
      "    \u001b[32mfc1__w\u001b[0m\u001b[35m:\u001b[0m ivy.array(24374),\n",
      "    \u001b[32mfc2__b\u001b[0m\u001b[35m:\u001b[0m ivy.array(0),\n",
      "    \u001b[32mfc2__w\u001b[0m\u001b[35m:\u001b[0m ivy.array(231)\n",
      "\u001b[34m}\u001b[0m\n"
     ]
    },
    {
     "name": "stderr",
     "output_type": "stream",
     "text": [
      " 88%|████████▊ | 370/422 [11:45<01:30,  1.74s/it]"
     ]
    },
    {
     "name": "stdout",
     "output_type": "stream",
     "text": [
      "\u001b[34m{\u001b[0m\n",
      "    \u001b[32mfc1__b\u001b[0m\u001b[35m:\u001b[0m ivy.array(23),\n",
      "    \u001b[32mfc1__w\u001b[0m\u001b[35m:\u001b[0m ivy.array(24376),\n",
      "    \u001b[32mfc2__b\u001b[0m\u001b[35m:\u001b[0m ivy.array(0),\n",
      "    \u001b[32mfc2__w\u001b[0m\u001b[35m:\u001b[0m ivy.array(231)\n",
      "\u001b[34m}\u001b[0m\n"
     ]
    },
    {
     "name": "stderr",
     "output_type": "stream",
     "text": [
      " 88%|████████▊ | 371/422 [11:48<01:34,  1.85s/it]"
     ]
    },
    {
     "name": "stdout",
     "output_type": "stream",
     "text": [
      "\u001b[34m{\u001b[0m\n",
      "    \u001b[32mfc1__b\u001b[0m\u001b[35m:\u001b[0m ivy.array(23),\n",
      "    \u001b[32mfc1__w\u001b[0m\u001b[35m:\u001b[0m ivy.array(24378),\n",
      "    \u001b[32mfc2__b\u001b[0m\u001b[35m:\u001b[0m ivy.array(0),\n",
      "    \u001b[32mfc2__w\u001b[0m\u001b[35m:\u001b[0m ivy.array(231)\n",
      "\u001b[34m}\u001b[0m\n"
     ]
    },
    {
     "name": "stderr",
     "output_type": "stream",
     "text": [
      " 88%|████████▊ | 372/422 [11:49<01:31,  1.84s/it]"
     ]
    },
    {
     "name": "stdout",
     "output_type": "stream",
     "text": [
      "\u001b[34m{\u001b[0m\n",
      "    \u001b[32mfc1__b\u001b[0m\u001b[35m:\u001b[0m ivy.array(22),\n",
      "    \u001b[32mfc1__w\u001b[0m\u001b[35m:\u001b[0m ivy.array(24330),\n",
      "    \u001b[32mfc2__b\u001b[0m\u001b[35m:\u001b[0m ivy.array(0),\n",
      "    \u001b[32mfc2__w\u001b[0m\u001b[35m:\u001b[0m ivy.array(221)\n",
      "\u001b[34m}\u001b[0m\n"
     ]
    },
    {
     "name": "stderr",
     "output_type": "stream",
     "text": [
      " 88%|████████▊ | 373/422 [11:51<01:29,  1.83s/it]"
     ]
    },
    {
     "name": "stdout",
     "output_type": "stream",
     "text": [
      "\u001b[34m{\u001b[0m\n",
      "    \u001b[32mfc1__b\u001b[0m\u001b[35m:\u001b[0m ivy.array(22),\n",
      "    \u001b[32mfc1__w\u001b[0m\u001b[35m:\u001b[0m ivy.array(24337),\n",
      "    \u001b[32mfc2__b\u001b[0m\u001b[35m:\u001b[0m ivy.array(0),\n",
      "    \u001b[32mfc2__w\u001b[0m\u001b[35m:\u001b[0m ivy.array(221)\n",
      "\u001b[34m}\u001b[0m\n"
     ]
    },
    {
     "name": "stderr",
     "output_type": "stream",
     "text": [
      " 89%|████████▊ | 374/422 [11:53<01:25,  1.78s/it]"
     ]
    },
    {
     "name": "stdout",
     "output_type": "stream",
     "text": [
      "\u001b[34m{\u001b[0m\n",
      "    \u001b[32mfc1__b\u001b[0m\u001b[35m:\u001b[0m ivy.array(22),\n",
      "    \u001b[32mfc1__w\u001b[0m\u001b[35m:\u001b[0m ivy.array(24341),\n",
      "    \u001b[32mfc2__b\u001b[0m\u001b[35m:\u001b[0m ivy.array(0),\n",
      "    \u001b[32mfc2__w\u001b[0m\u001b[35m:\u001b[0m ivy.array(221)\n",
      "\u001b[34m}\u001b[0m\n"
     ]
    },
    {
     "name": "stderr",
     "output_type": "stream",
     "text": [
      " 89%|████████▉ | 375/422 [11:55<01:27,  1.87s/it]"
     ]
    },
    {
     "name": "stdout",
     "output_type": "stream",
     "text": [
      "\u001b[34m{\u001b[0m\n",
      "    \u001b[32mfc1__b\u001b[0m\u001b[35m:\u001b[0m ivy.array(22),\n",
      "    \u001b[32mfc1__w\u001b[0m\u001b[35m:\u001b[0m ivy.array(24343),\n",
      "    \u001b[32mfc2__b\u001b[0m\u001b[35m:\u001b[0m ivy.array(0),\n",
      "    \u001b[32mfc2__w\u001b[0m\u001b[35m:\u001b[0m ivy.array(221)\n",
      "\u001b[34m}\u001b[0m\n"
     ]
    },
    {
     "name": "stderr",
     "output_type": "stream",
     "text": [
      " 89%|████████▉ | 376/422 [11:57<01:28,  1.92s/it]"
     ]
    },
    {
     "name": "stdout",
     "output_type": "stream",
     "text": [
      "\u001b[34m{\u001b[0m\n",
      "    \u001b[32mfc1__b\u001b[0m\u001b[35m:\u001b[0m ivy.array(22),\n",
      "    \u001b[32mfc1__w\u001b[0m\u001b[35m:\u001b[0m ivy.array(24344),\n",
      "    \u001b[32mfc2__b\u001b[0m\u001b[35m:\u001b[0m ivy.array(0),\n",
      "    \u001b[32mfc2__w\u001b[0m\u001b[35m:\u001b[0m ivy.array(221)\n",
      "\u001b[34m}\u001b[0m\n"
     ]
    },
    {
     "name": "stderr",
     "output_type": "stream",
     "text": [
      " 89%|████████▉ | 377/422 [11:59<01:23,  1.85s/it]"
     ]
    },
    {
     "name": "stdout",
     "output_type": "stream",
     "text": [
      "\u001b[34m{\u001b[0m\n",
      "    \u001b[32mfc1__b\u001b[0m\u001b[35m:\u001b[0m ivy.array(22),\n",
      "    \u001b[32mfc1__w\u001b[0m\u001b[35m:\u001b[0m ivy.array(24345),\n",
      "    \u001b[32mfc2__b\u001b[0m\u001b[35m:\u001b[0m ivy.array(0),\n",
      "    \u001b[32mfc2__w\u001b[0m\u001b[35m:\u001b[0m ivy.array(221)\n",
      "\u001b[34m}\u001b[0m\n"
     ]
    },
    {
     "name": "stderr",
     "output_type": "stream",
     "text": [
      " 90%|████████▉ | 378/422 [12:00<01:19,  1.80s/it]"
     ]
    },
    {
     "name": "stdout",
     "output_type": "stream",
     "text": [
      "\u001b[34m{\u001b[0m\n",
      "    \u001b[32mfc1__b\u001b[0m\u001b[35m:\u001b[0m ivy.array(22),\n",
      "    \u001b[32mfc1__w\u001b[0m\u001b[35m:\u001b[0m ivy.array(24348),\n",
      "    \u001b[32mfc2__b\u001b[0m\u001b[35m:\u001b[0m ivy.array(0),\n",
      "    \u001b[32mfc2__w\u001b[0m\u001b[35m:\u001b[0m ivy.array(221)\n",
      "\u001b[34m}\u001b[0m\n"
     ]
    },
    {
     "name": "stderr",
     "output_type": "stream",
     "text": [
      " 90%|████████▉ | 379/422 [12:02<01:19,  1.84s/it]"
     ]
    },
    {
     "name": "stdout",
     "output_type": "stream",
     "text": [
      "\u001b[34m{\u001b[0m\n",
      "    \u001b[32mfc1__b\u001b[0m\u001b[35m:\u001b[0m ivy.array(21),\n",
      "    \u001b[32mfc1__w\u001b[0m\u001b[35m:\u001b[0m ivy.array(24274),\n",
      "    \u001b[32mfc2__b\u001b[0m\u001b[35m:\u001b[0m ivy.array(0),\n",
      "    \u001b[32mfc2__w\u001b[0m\u001b[35m:\u001b[0m ivy.array(211)\n",
      "\u001b[34m}\u001b[0m\n"
     ]
    },
    {
     "name": "stderr",
     "output_type": "stream",
     "text": [
      " 90%|█████████ | 380/422 [12:04<01:19,  1.90s/it]"
     ]
    },
    {
     "name": "stdout",
     "output_type": "stream",
     "text": [
      "\u001b[34m{\u001b[0m\n",
      "    \u001b[32mfc1__b\u001b[0m\u001b[35m:\u001b[0m ivy.array(21),\n",
      "    \u001b[32mfc1__w\u001b[0m\u001b[35m:\u001b[0m ivy.array(24275),\n",
      "    \u001b[32mfc2__b\u001b[0m\u001b[35m:\u001b[0m ivy.array(0),\n",
      "    \u001b[32mfc2__w\u001b[0m\u001b[35m:\u001b[0m ivy.array(211)\n",
      "\u001b[34m}\u001b[0m\n"
     ]
    },
    {
     "name": "stderr",
     "output_type": "stream",
     "text": [
      " 90%|█████████ | 381/422 [12:06<01:14,  1.83s/it]"
     ]
    },
    {
     "name": "stdout",
     "output_type": "stream",
     "text": [
      "\u001b[34m{\u001b[0m\n",
      "    \u001b[32mfc1__b\u001b[0m\u001b[35m:\u001b[0m ivy.array(21),\n",
      "    \u001b[32mfc1__w\u001b[0m\u001b[35m:\u001b[0m ivy.array(24278),\n",
      "    \u001b[32mfc2__b\u001b[0m\u001b[35m:\u001b[0m ivy.array(0),\n",
      "    \u001b[32mfc2__w\u001b[0m\u001b[35m:\u001b[0m ivy.array(211)\n",
      "\u001b[34m}\u001b[0m\n"
     ]
    },
    {
     "name": "stderr",
     "output_type": "stream",
     "text": [
      " 91%|█████████ | 382/422 [12:08<01:10,  1.77s/it]"
     ]
    },
    {
     "name": "stdout",
     "output_type": "stream",
     "text": [
      "\u001b[34m{\u001b[0m\n",
      "    \u001b[32mfc1__b\u001b[0m\u001b[35m:\u001b[0m ivy.array(21),\n",
      "    \u001b[32mfc1__w\u001b[0m\u001b[35m:\u001b[0m ivy.array(24278),\n",
      "    \u001b[32mfc2__b\u001b[0m\u001b[35m:\u001b[0m ivy.array(0),\n",
      "    \u001b[32mfc2__w\u001b[0m\u001b[35m:\u001b[0m ivy.array(211)\n",
      "\u001b[34m}\u001b[0m\n"
     ]
    },
    {
     "name": "stderr",
     "output_type": "stream",
     "text": [
      " 91%|█████████ | 383/422 [12:09<01:08,  1.77s/it]"
     ]
    },
    {
     "name": "stdout",
     "output_type": "stream",
     "text": [
      "\u001b[34m{\u001b[0m\n",
      "    \u001b[32mfc1__b\u001b[0m\u001b[35m:\u001b[0m ivy.array(21),\n",
      "    \u001b[32mfc1__w\u001b[0m\u001b[35m:\u001b[0m ivy.array(24279),\n",
      "    \u001b[32mfc2__b\u001b[0m\u001b[35m:\u001b[0m ivy.array(0),\n",
      "    \u001b[32mfc2__w\u001b[0m\u001b[35m:\u001b[0m ivy.array(211)\n",
      "\u001b[34m}\u001b[0m\n"
     ]
    },
    {
     "name": "stderr",
     "output_type": "stream",
     "text": [
      " 91%|█████████ | 384/422 [12:11<01:11,  1.87s/it]"
     ]
    },
    {
     "name": "stdout",
     "output_type": "stream",
     "text": [
      "\u001b[34m{\u001b[0m\n",
      "    \u001b[32mfc1__b\u001b[0m\u001b[35m:\u001b[0m ivy.array(21),\n",
      "    \u001b[32mfc1__w\u001b[0m\u001b[35m:\u001b[0m ivy.array(24280),\n",
      "    \u001b[32mfc2__b\u001b[0m\u001b[35m:\u001b[0m ivy.array(0),\n",
      "    \u001b[32mfc2__w\u001b[0m\u001b[35m:\u001b[0m ivy.array(211)\n",
      "\u001b[34m}\u001b[0m\n"
     ]
    },
    {
     "name": "stderr",
     "output_type": "stream",
     "text": [
      " 91%|█████████ | 385/422 [12:13<01:08,  1.84s/it]"
     ]
    },
    {
     "name": "stdout",
     "output_type": "stream",
     "text": [
      "\u001b[34m{\u001b[0m\n",
      "    \u001b[32mfc1__b\u001b[0m\u001b[35m:\u001b[0m ivy.array(20),\n",
      "    \u001b[32mfc1__w\u001b[0m\u001b[35m:\u001b[0m ivy.array(24212),\n",
      "    \u001b[32mfc2__b\u001b[0m\u001b[35m:\u001b[0m ivy.array(0),\n",
      "    \u001b[32mfc2__w\u001b[0m\u001b[35m:\u001b[0m ivy.array(201)\n",
      "\u001b[34m}\u001b[0m\n"
     ]
    },
    {
     "name": "stderr",
     "output_type": "stream",
     "text": [
      " 91%|█████████▏| 386/422 [12:15<01:04,  1.78s/it]"
     ]
    },
    {
     "name": "stdout",
     "output_type": "stream",
     "text": [
      "\u001b[34m{\u001b[0m\n",
      "    \u001b[32mfc1__b\u001b[0m\u001b[35m:\u001b[0m ivy.array(20),\n",
      "    \u001b[32mfc1__w\u001b[0m\u001b[35m:\u001b[0m ivy.array(24213),\n",
      "    \u001b[32mfc2__b\u001b[0m\u001b[35m:\u001b[0m ivy.array(0),\n",
      "    \u001b[32mfc2__w\u001b[0m\u001b[35m:\u001b[0m ivy.array(201)\n",
      "\u001b[34m}\u001b[0m\n"
     ]
    },
    {
     "name": "stderr",
     "output_type": "stream",
     "text": [
      " 92%|█████████▏| 387/422 [12:17<01:02,  1.78s/it]"
     ]
    },
    {
     "name": "stdout",
     "output_type": "stream",
     "text": [
      "\u001b[34m{\u001b[0m\n",
      "    \u001b[32mfc1__b\u001b[0m\u001b[35m:\u001b[0m ivy.array(20),\n",
      "    \u001b[32mfc1__w\u001b[0m\u001b[35m:\u001b[0m ivy.array(24213),\n",
      "    \u001b[32mfc2__b\u001b[0m\u001b[35m:\u001b[0m ivy.array(0),\n",
      "    \u001b[32mfc2__w\u001b[0m\u001b[35m:\u001b[0m ivy.array(201)\n",
      "\u001b[34m}\u001b[0m\n"
     ]
    },
    {
     "name": "stderr",
     "output_type": "stream",
     "text": [
      " 92%|█████████▏| 388/422 [12:19<01:07,  1.98s/it]"
     ]
    },
    {
     "name": "stdout",
     "output_type": "stream",
     "text": [
      "\u001b[34m{\u001b[0m\n",
      "    \u001b[32mfc1__b\u001b[0m\u001b[35m:\u001b[0m ivy.array(20),\n",
      "    \u001b[32mfc1__w\u001b[0m\u001b[35m:\u001b[0m ivy.array(24213),\n",
      "    \u001b[32mfc2__b\u001b[0m\u001b[35m:\u001b[0m ivy.array(0),\n",
      "    \u001b[32mfc2__w\u001b[0m\u001b[35m:\u001b[0m ivy.array(201)\n",
      "\u001b[34m}\u001b[0m\n"
     ]
    },
    {
     "name": "stderr",
     "output_type": "stream",
     "text": [
      " 92%|█████████▏| 389/422 [12:21<01:05,  1.99s/it]"
     ]
    },
    {
     "name": "stdout",
     "output_type": "stream",
     "text": [
      "\u001b[34m{\u001b[0m\n",
      "    \u001b[32mfc1__b\u001b[0m\u001b[35m:\u001b[0m ivy.array(20),\n",
      "    \u001b[32mfc1__w\u001b[0m\u001b[35m:\u001b[0m ivy.array(24214),\n",
      "    \u001b[32mfc2__b\u001b[0m\u001b[35m:\u001b[0m ivy.array(0),\n",
      "    \u001b[32mfc2__w\u001b[0m\u001b[35m:\u001b[0m ivy.array(202)\n",
      "\u001b[34m}\u001b[0m\n"
     ]
    },
    {
     "name": "stderr",
     "output_type": "stream",
     "text": [
      " 92%|█████████▏| 390/422 [12:23<01:01,  1.93s/it]"
     ]
    },
    {
     "name": "stdout",
     "output_type": "stream",
     "text": [
      "\u001b[34m{\u001b[0m\n",
      "    \u001b[32mfc1__b\u001b[0m\u001b[35m:\u001b[0m ivy.array(20),\n",
      "    \u001b[32mfc1__w\u001b[0m\u001b[35m:\u001b[0m ivy.array(24214),\n",
      "    \u001b[32mfc2__b\u001b[0m\u001b[35m:\u001b[0m ivy.array(0),\n",
      "    \u001b[32mfc2__w\u001b[0m\u001b[35m:\u001b[0m ivy.array(203)\n",
      "\u001b[34m}\u001b[0m\n"
     ]
    },
    {
     "name": "stderr",
     "output_type": "stream",
     "text": [
      " 93%|█████████▎| 391/422 [12:25<00:57,  1.85s/it]"
     ]
    },
    {
     "name": "stdout",
     "output_type": "stream",
     "text": [
      "\u001b[34m{\u001b[0m\n",
      "    \u001b[32mfc1__b\u001b[0m\u001b[35m:\u001b[0m ivy.array(20),\n",
      "    \u001b[32mfc1__w\u001b[0m\u001b[35m:\u001b[0m ivy.array(24214),\n",
      "    \u001b[32mfc2__b\u001b[0m\u001b[35m:\u001b[0m ivy.array(0),\n",
      "    \u001b[32mfc2__w\u001b[0m\u001b[35m:\u001b[0m ivy.array(204)\n",
      "\u001b[34m}\u001b[0m\n"
     ]
    },
    {
     "name": "stderr",
     "output_type": "stream",
     "text": [
      " 93%|█████████▎| 392/422 [12:27<00:57,  1.92s/it]"
     ]
    },
    {
     "name": "stdout",
     "output_type": "stream",
     "text": [
      "\u001b[34m{\u001b[0m\n",
      "    \u001b[32mfc1__b\u001b[0m\u001b[35m:\u001b[0m ivy.array(20),\n",
      "    \u001b[32mfc1__w\u001b[0m\u001b[35m:\u001b[0m ivy.array(24215),\n",
      "    \u001b[32mfc2__b\u001b[0m\u001b[35m:\u001b[0m ivy.array(0),\n",
      "    \u001b[32mfc2__w\u001b[0m\u001b[35m:\u001b[0m ivy.array(205)\n",
      "\u001b[34m}\u001b[0m\n"
     ]
    },
    {
     "name": "stderr",
     "output_type": "stream",
     "text": [
      " 93%|█████████▎| 393/422 [12:29<00:56,  1.96s/it]"
     ]
    },
    {
     "name": "stdout",
     "output_type": "stream",
     "text": [
      "\u001b[34m{\u001b[0m\n",
      "    \u001b[32mfc1__b\u001b[0m\u001b[35m:\u001b[0m ivy.array(20),\n",
      "    \u001b[32mfc1__w\u001b[0m\u001b[35m:\u001b[0m ivy.array(24218),\n",
      "    \u001b[32mfc2__b\u001b[0m\u001b[35m:\u001b[0m ivy.array(0),\n",
      "    \u001b[32mfc2__w\u001b[0m\u001b[35m:\u001b[0m ivy.array(205)\n",
      "\u001b[34m}\u001b[0m\n"
     ]
    },
    {
     "name": "stderr",
     "output_type": "stream",
     "text": [
      " 93%|█████████▎| 394/422 [12:30<00:52,  1.89s/it]"
     ]
    },
    {
     "name": "stdout",
     "output_type": "stream",
     "text": [
      "\u001b[34m{\u001b[0m\n",
      "    \u001b[32mfc1__b\u001b[0m\u001b[35m:\u001b[0m ivy.array(19),\n",
      "    \u001b[32mfc1__w\u001b[0m\u001b[35m:\u001b[0m ivy.array(24126),\n",
      "    \u001b[32mfc2__b\u001b[0m\u001b[35m:\u001b[0m ivy.array(0),\n",
      "    \u001b[32mfc2__w\u001b[0m\u001b[35m:\u001b[0m ivy.array(195)\n",
      "\u001b[34m}\u001b[0m\n"
     ]
    },
    {
     "name": "stderr",
     "output_type": "stream",
     "text": [
      " 94%|█████████▎| 395/422 [12:32<00:49,  1.82s/it]"
     ]
    },
    {
     "name": "stdout",
     "output_type": "stream",
     "text": [
      "\u001b[34m{\u001b[0m\n",
      "    \u001b[32mfc1__b\u001b[0m\u001b[35m:\u001b[0m ivy.array(19),\n",
      "    \u001b[32mfc1__w\u001b[0m\u001b[35m:\u001b[0m ivy.array(24126),\n",
      "    \u001b[32mfc2__b\u001b[0m\u001b[35m:\u001b[0m ivy.array(0),\n",
      "    \u001b[32mfc2__w\u001b[0m\u001b[35m:\u001b[0m ivy.array(195)\n",
      "\u001b[34m}\u001b[0m\n"
     ]
    },
    {
     "name": "stderr",
     "output_type": "stream",
     "text": [
      " 94%|█████████▍| 396/422 [12:34<00:48,  1.85s/it]"
     ]
    },
    {
     "name": "stdout",
     "output_type": "stream",
     "text": [
      "\u001b[34m{\u001b[0m\n",
      "    \u001b[32mfc1__b\u001b[0m\u001b[35m:\u001b[0m ivy.array(19),\n",
      "    \u001b[32mfc1__w\u001b[0m\u001b[35m:\u001b[0m ivy.array(24127),\n",
      "    \u001b[32mfc2__b\u001b[0m\u001b[35m:\u001b[0m ivy.array(0),\n",
      "    \u001b[32mfc2__w\u001b[0m\u001b[35m:\u001b[0m ivy.array(195)\n",
      "\u001b[34m}\u001b[0m\n"
     ]
    },
    {
     "name": "stderr",
     "output_type": "stream",
     "text": [
      " 94%|█████████▍| 397/422 [12:36<00:47,  1.90s/it]"
     ]
    },
    {
     "name": "stdout",
     "output_type": "stream",
     "text": [
      "\u001b[34m{\u001b[0m\n",
      "    \u001b[32mfc1__b\u001b[0m\u001b[35m:\u001b[0m ivy.array(19),\n",
      "    \u001b[32mfc1__w\u001b[0m\u001b[35m:\u001b[0m ivy.array(24127),\n",
      "    \u001b[32mfc2__b\u001b[0m\u001b[35m:\u001b[0m ivy.array(0),\n",
      "    \u001b[32mfc2__w\u001b[0m\u001b[35m:\u001b[0m ivy.array(197)\n",
      "\u001b[34m}\u001b[0m\n"
     ]
    },
    {
     "name": "stderr",
     "output_type": "stream",
     "text": [
      " 94%|█████████▍| 398/422 [12:38<00:43,  1.82s/it]"
     ]
    },
    {
     "name": "stdout",
     "output_type": "stream",
     "text": [
      "\u001b[34m{\u001b[0m\n",
      "    \u001b[32mfc1__b\u001b[0m\u001b[35m:\u001b[0m ivy.array(19),\n",
      "    \u001b[32mfc1__w\u001b[0m\u001b[35m:\u001b[0m ivy.array(24127),\n",
      "    \u001b[32mfc2__b\u001b[0m\u001b[35m:\u001b[0m ivy.array(0),\n",
      "    \u001b[32mfc2__w\u001b[0m\u001b[35m:\u001b[0m ivy.array(199)\n",
      "\u001b[34m}\u001b[0m\n"
     ]
    },
    {
     "name": "stderr",
     "output_type": "stream",
     "text": [
      " 95%|█████████▍| 399/422 [12:39<00:40,  1.77s/it]"
     ]
    },
    {
     "name": "stdout",
     "output_type": "stream",
     "text": [
      "\u001b[34m{\u001b[0m\n",
      "    \u001b[32mfc1__b\u001b[0m\u001b[35m:\u001b[0m ivy.array(19),\n",
      "    \u001b[32mfc1__w\u001b[0m\u001b[35m:\u001b[0m ivy.array(24127),\n",
      "    \u001b[32mfc2__b\u001b[0m\u001b[35m:\u001b[0m ivy.array(0),\n",
      "    \u001b[32mfc2__w\u001b[0m\u001b[35m:\u001b[0m ivy.array(199)\n",
      "\u001b[34m}\u001b[0m\n"
     ]
    },
    {
     "name": "stderr",
     "output_type": "stream",
     "text": [
      " 95%|█████████▍| 400/422 [12:41<00:37,  1.72s/it]"
     ]
    },
    {
     "name": "stdout",
     "output_type": "stream",
     "text": [
      "\u001b[34m{\u001b[0m\n",
      "    \u001b[32mfc1__b\u001b[0m\u001b[35m:\u001b[0m ivy.array(19),\n",
      "    \u001b[32mfc1__w\u001b[0m\u001b[35m:\u001b[0m ivy.array(24127),\n",
      "    \u001b[32mfc2__b\u001b[0m\u001b[35m:\u001b[0m ivy.array(0),\n",
      "    \u001b[32mfc2__w\u001b[0m\u001b[35m:\u001b[0m ivy.array(199)\n",
      "\u001b[34m}\u001b[0m\n"
     ]
    },
    {
     "name": "stderr",
     "output_type": "stream",
     "text": [
      " 95%|█████████▌| 401/422 [12:43<00:38,  1.85s/it]"
     ]
    },
    {
     "name": "stdout",
     "output_type": "stream",
     "text": [
      "\u001b[34m{\u001b[0m\n",
      "    \u001b[32mfc1__b\u001b[0m\u001b[35m:\u001b[0m ivy.array(19),\n",
      "    \u001b[32mfc1__w\u001b[0m\u001b[35m:\u001b[0m ivy.array(24127),\n",
      "    \u001b[32mfc2__b\u001b[0m\u001b[35m:\u001b[0m ivy.array(0),\n",
      "    \u001b[32mfc2__w\u001b[0m\u001b[35m:\u001b[0m ivy.array(199)\n",
      "\u001b[34m}\u001b[0m\n"
     ]
    },
    {
     "name": "stderr",
     "output_type": "stream",
     "text": [
      " 95%|█████████▌| 402/422 [12:45<00:36,  1.82s/it]"
     ]
    },
    {
     "name": "stdout",
     "output_type": "stream",
     "text": [
      "\u001b[34m{\u001b[0m\n",
      "    \u001b[32mfc1__b\u001b[0m\u001b[35m:\u001b[0m ivy.array(19),\n",
      "    \u001b[32mfc1__w\u001b[0m\u001b[35m:\u001b[0m ivy.array(24127),\n",
      "    \u001b[32mfc2__b\u001b[0m\u001b[35m:\u001b[0m ivy.array(0),\n",
      "    \u001b[32mfc2__w\u001b[0m\u001b[35m:\u001b[0m ivy.array(200)\n",
      "\u001b[34m}\u001b[0m\n"
     ]
    },
    {
     "name": "stderr",
     "output_type": "stream",
     "text": [
      " 95%|█████████▌| 403/422 [12:47<00:33,  1.78s/it]"
     ]
    },
    {
     "name": "stdout",
     "output_type": "stream",
     "text": [
      "\u001b[34m{\u001b[0m\n",
      "    \u001b[32mfc1__b\u001b[0m\u001b[35m:\u001b[0m ivy.array(19),\n",
      "    \u001b[32mfc1__w\u001b[0m\u001b[35m:\u001b[0m ivy.array(24127),\n",
      "    \u001b[32mfc2__b\u001b[0m\u001b[35m:\u001b[0m ivy.array(0),\n",
      "    \u001b[32mfc2__w\u001b[0m\u001b[35m:\u001b[0m ivy.array(201)\n",
      "\u001b[34m}\u001b[0m\n"
     ]
    },
    {
     "name": "stderr",
     "output_type": "stream",
     "text": [
      " 96%|█████████▌| 404/422 [12:48<00:30,  1.71s/it]"
     ]
    },
    {
     "name": "stdout",
     "output_type": "stream",
     "text": [
      "\u001b[34m{\u001b[0m\n",
      "    \u001b[32mfc1__b\u001b[0m\u001b[35m:\u001b[0m ivy.array(19),\n",
      "    \u001b[32mfc1__w\u001b[0m\u001b[35m:\u001b[0m ivy.array(24127),\n",
      "    \u001b[32mfc2__b\u001b[0m\u001b[35m:\u001b[0m ivy.array(0),\n",
      "    \u001b[32mfc2__w\u001b[0m\u001b[35m:\u001b[0m ivy.array(207)\n",
      "\u001b[34m}\u001b[0m\n"
     ]
    },
    {
     "name": "stderr",
     "output_type": "stream",
     "text": [
      " 96%|█████████▌| 405/422 [12:50<00:30,  1.81s/it]"
     ]
    },
    {
     "name": "stdout",
     "output_type": "stream",
     "text": [
      "\u001b[34m{\u001b[0m\n",
      "    \u001b[32mfc1__b\u001b[0m\u001b[35m:\u001b[0m ivy.array(19),\n",
      "    \u001b[32mfc1__w\u001b[0m\u001b[35m:\u001b[0m ivy.array(24128),\n",
      "    \u001b[32mfc2__b\u001b[0m\u001b[35m:\u001b[0m ivy.array(0),\n",
      "    \u001b[32mfc2__w\u001b[0m\u001b[35m:\u001b[0m ivy.array(207)\n",
      "\u001b[34m}\u001b[0m\n"
     ]
    },
    {
     "name": "stderr",
     "output_type": "stream",
     "text": [
      " 96%|█████████▌| 406/422 [12:52<00:29,  1.81s/it]"
     ]
    },
    {
     "name": "stdout",
     "output_type": "stream",
     "text": [
      "\u001b[34m{\u001b[0m\n",
      "    \u001b[32mfc1__b\u001b[0m\u001b[35m:\u001b[0m ivy.array(19),\n",
      "    \u001b[32mfc1__w\u001b[0m\u001b[35m:\u001b[0m ivy.array(24128),\n",
      "    \u001b[32mfc2__b\u001b[0m\u001b[35m:\u001b[0m ivy.array(0),\n",
      "    \u001b[32mfc2__w\u001b[0m\u001b[35m:\u001b[0m ivy.array(207)\n",
      "\u001b[34m}\u001b[0m\n"
     ]
    },
    {
     "name": "stderr",
     "output_type": "stream",
     "text": [
      " 96%|█████████▋| 407/422 [12:54<00:26,  1.76s/it]"
     ]
    },
    {
     "name": "stdout",
     "output_type": "stream",
     "text": [
      "\u001b[34m{\u001b[0m\n",
      "    \u001b[32mfc1__b\u001b[0m\u001b[35m:\u001b[0m ivy.array(19),\n",
      "    \u001b[32mfc1__w\u001b[0m\u001b[35m:\u001b[0m ivy.array(24128),\n",
      "    \u001b[32mfc2__b\u001b[0m\u001b[35m:\u001b[0m ivy.array(0),\n",
      "    \u001b[32mfc2__w\u001b[0m\u001b[35m:\u001b[0m ivy.array(208)\n",
      "\u001b[34m}\u001b[0m\n"
     ]
    },
    {
     "name": "stderr",
     "output_type": "stream",
     "text": [
      " 97%|█████████▋| 408/422 [12:55<00:23,  1.69s/it]"
     ]
    },
    {
     "name": "stdout",
     "output_type": "stream",
     "text": [
      "\u001b[34m{\u001b[0m\n",
      "    \u001b[32mfc1__b\u001b[0m\u001b[35m:\u001b[0m ivy.array(19),\n",
      "    \u001b[32mfc1__w\u001b[0m\u001b[35m:\u001b[0m ivy.array(24128),\n",
      "    \u001b[32mfc2__b\u001b[0m\u001b[35m:\u001b[0m ivy.array(0),\n",
      "    \u001b[32mfc2__w\u001b[0m\u001b[35m:\u001b[0m ivy.array(210)\n",
      "\u001b[34m}\u001b[0m\n"
     ]
    },
    {
     "name": "stderr",
     "output_type": "stream",
     "text": [
      " 97%|█████████▋| 409/422 [12:57<00:22,  1.72s/it]"
     ]
    },
    {
     "name": "stdout",
     "output_type": "stream",
     "text": [
      "\u001b[34m{\u001b[0m\n",
      "    \u001b[32mfc1__b\u001b[0m\u001b[35m:\u001b[0m ivy.array(19),\n",
      "    \u001b[32mfc1__w\u001b[0m\u001b[35m:\u001b[0m ivy.array(24128),\n",
      "    \u001b[32mfc2__b\u001b[0m\u001b[35m:\u001b[0m ivy.array(0),\n",
      "    \u001b[32mfc2__w\u001b[0m\u001b[35m:\u001b[0m ivy.array(211)\n",
      "\u001b[34m}\u001b[0m\n"
     ]
    },
    {
     "name": "stderr",
     "output_type": "stream",
     "text": [
      " 97%|█████████▋| 410/422 [12:59<00:21,  1.82s/it]"
     ]
    },
    {
     "name": "stdout",
     "output_type": "stream",
     "text": [
      "\u001b[34m{\u001b[0m\n",
      "    \u001b[32mfc1__b\u001b[0m\u001b[35m:\u001b[0m ivy.array(19),\n",
      "    \u001b[32mfc1__w\u001b[0m\u001b[35m:\u001b[0m ivy.array(24128),\n",
      "    \u001b[32mfc2__b\u001b[0m\u001b[35m:\u001b[0m ivy.array(0),\n",
      "    \u001b[32mfc2__w\u001b[0m\u001b[35m:\u001b[0m ivy.array(215)\n",
      "\u001b[34m}\u001b[0m\n"
     ]
    },
    {
     "name": "stderr",
     "output_type": "stream",
     "text": [
      " 97%|█████████▋| 411/422 [13:01<00:19,  1.76s/it]"
     ]
    },
    {
     "name": "stdout",
     "output_type": "stream",
     "text": [
      "\u001b[34m{\u001b[0m\n",
      "    \u001b[32mfc1__b\u001b[0m\u001b[35m:\u001b[0m ivy.array(19),\n",
      "    \u001b[32mfc1__w\u001b[0m\u001b[35m:\u001b[0m ivy.array(24128),\n",
      "    \u001b[32mfc2__b\u001b[0m\u001b[35m:\u001b[0m ivy.array(0),\n",
      "    \u001b[32mfc2__w\u001b[0m\u001b[35m:\u001b[0m ivy.array(218)\n",
      "\u001b[34m}\u001b[0m\n"
     ]
    },
    {
     "name": "stderr",
     "output_type": "stream",
     "text": [
      " 98%|█████████▊| 412/422 [13:02<00:16,  1.69s/it]"
     ]
    },
    {
     "name": "stdout",
     "output_type": "stream",
     "text": [
      "\u001b[34m{\u001b[0m\n",
      "    \u001b[32mfc1__b\u001b[0m\u001b[35m:\u001b[0m ivy.array(19),\n",
      "    \u001b[32mfc1__w\u001b[0m\u001b[35m:\u001b[0m ivy.array(24128),\n",
      "    \u001b[32mfc2__b\u001b[0m\u001b[35m:\u001b[0m ivy.array(0),\n",
      "    \u001b[32mfc2__w\u001b[0m\u001b[35m:\u001b[0m ivy.array(219)\n",
      "\u001b[34m}\u001b[0m\n"
     ]
    },
    {
     "name": "stderr",
     "output_type": "stream",
     "text": [
      " 98%|█████████▊| 413/422 [13:04<00:15,  1.69s/it]"
     ]
    },
    {
     "name": "stdout",
     "output_type": "stream",
     "text": [
      "\u001b[34m{\u001b[0m\n",
      "    \u001b[32mfc1__b\u001b[0m\u001b[35m:\u001b[0m ivy.array(19),\n",
      "    \u001b[32mfc1__w\u001b[0m\u001b[35m:\u001b[0m ivy.array(24128),\n",
      "    \u001b[32mfc2__b\u001b[0m\u001b[35m:\u001b[0m ivy.array(0),\n",
      "    \u001b[32mfc2__w\u001b[0m\u001b[35m:\u001b[0m ivy.array(223)\n",
      "\u001b[34m}\u001b[0m\n"
     ]
    },
    {
     "name": "stderr",
     "output_type": "stream",
     "text": [
      " 98%|█████████▊| 414/422 [13:06<00:14,  1.82s/it]"
     ]
    },
    {
     "name": "stdout",
     "output_type": "stream",
     "text": [
      "\u001b[34m{\u001b[0m\n",
      "    \u001b[32mfc1__b\u001b[0m\u001b[35m:\u001b[0m ivy.array(19),\n",
      "    \u001b[32mfc1__w\u001b[0m\u001b[35m:\u001b[0m ivy.array(24128),\n",
      "    \u001b[32mfc2__b\u001b[0m\u001b[35m:\u001b[0m ivy.array(0),\n",
      "    \u001b[32mfc2__w\u001b[0m\u001b[35m:\u001b[0m ivy.array(228)\n",
      "\u001b[34m}\u001b[0m\n"
     ]
    },
    {
     "name": "stderr",
     "output_type": "stream",
     "text": [
      " 98%|█████████▊| 415/422 [13:08<00:12,  1.84s/it]"
     ]
    },
    {
     "name": "stdout",
     "output_type": "stream",
     "text": [
      "\u001b[34m{\u001b[0m\n",
      "    \u001b[32mfc1__b\u001b[0m\u001b[35m:\u001b[0m ivy.array(19),\n",
      "    \u001b[32mfc1__w\u001b[0m\u001b[35m:\u001b[0m ivy.array(24128),\n",
      "    \u001b[32mfc2__b\u001b[0m\u001b[35m:\u001b[0m ivy.array(0),\n",
      "    \u001b[32mfc2__w\u001b[0m\u001b[35m:\u001b[0m ivy.array(230)\n",
      "\u001b[34m}\u001b[0m\n"
     ]
    },
    {
     "name": "stderr",
     "output_type": "stream",
     "text": [
      " 99%|█████████▊| 416/422 [13:09<00:10,  1.77s/it]"
     ]
    },
    {
     "name": "stdout",
     "output_type": "stream",
     "text": [
      "\u001b[34m{\u001b[0m\n",
      "    \u001b[32mfc1__b\u001b[0m\u001b[35m:\u001b[0m ivy.array(19),\n",
      "    \u001b[32mfc1__w\u001b[0m\u001b[35m:\u001b[0m ivy.array(24128),\n",
      "    \u001b[32mfc2__b\u001b[0m\u001b[35m:\u001b[0m ivy.array(0),\n",
      "    \u001b[32mfc2__w\u001b[0m\u001b[35m:\u001b[0m ivy.array(235)\n",
      "\u001b[34m}\u001b[0m\n"
     ]
    },
    {
     "name": "stderr",
     "output_type": "stream",
     "text": [
      " 99%|█████████▉| 417/422 [13:11<00:08,  1.75s/it]"
     ]
    },
    {
     "name": "stdout",
     "output_type": "stream",
     "text": [
      "\u001b[34m{\u001b[0m\n",
      "    \u001b[32mfc1__b\u001b[0m\u001b[35m:\u001b[0m ivy.array(19),\n",
      "    \u001b[32mfc1__w\u001b[0m\u001b[35m:\u001b[0m ivy.array(24128),\n",
      "    \u001b[32mfc2__b\u001b[0m\u001b[35m:\u001b[0m ivy.array(0),\n",
      "    \u001b[32mfc2__w\u001b[0m\u001b[35m:\u001b[0m ivy.array(241)\n",
      "\u001b[34m}\u001b[0m\n"
     ]
    },
    {
     "name": "stderr",
     "output_type": "stream",
     "text": [
      " 99%|█████████▉| 418/422 [13:13<00:07,  1.79s/it]"
     ]
    },
    {
     "name": "stdout",
     "output_type": "stream",
     "text": [
      "\u001b[34m{\u001b[0m\n",
      "    \u001b[32mfc1__b\u001b[0m\u001b[35m:\u001b[0m ivy.array(19),\n",
      "    \u001b[32mfc1__w\u001b[0m\u001b[35m:\u001b[0m ivy.array(24128),\n",
      "    \u001b[32mfc2__b\u001b[0m\u001b[35m:\u001b[0m ivy.array(0),\n",
      "    \u001b[32mfc2__w\u001b[0m\u001b[35m:\u001b[0m ivy.array(248)\n",
      "\u001b[34m}\u001b[0m\n"
     ]
    },
    {
     "name": "stderr",
     "output_type": "stream",
     "text": [
      " 99%|█████████▉| 419/422 [13:15<00:05,  1.85s/it]"
     ]
    },
    {
     "name": "stdout",
     "output_type": "stream",
     "text": [
      "\u001b[34m{\u001b[0m\n",
      "    \u001b[32mfc1__b\u001b[0m\u001b[35m:\u001b[0m ivy.array(19),\n",
      "    \u001b[32mfc1__w\u001b[0m\u001b[35m:\u001b[0m ivy.array(24128),\n",
      "    \u001b[32mfc2__b\u001b[0m\u001b[35m:\u001b[0m ivy.array(0),\n",
      "    \u001b[32mfc2__w\u001b[0m\u001b[35m:\u001b[0m ivy.array(250)\n",
      "\u001b[34m}\u001b[0m\n"
     ]
    },
    {
     "name": "stderr",
     "output_type": "stream",
     "text": [
      "100%|█████████▉| 420/422 [13:17<00:03,  1.80s/it]"
     ]
    },
    {
     "name": "stdout",
     "output_type": "stream",
     "text": [
      "\u001b[34m{\u001b[0m\n",
      "    \u001b[32mfc1__b\u001b[0m\u001b[35m:\u001b[0m ivy.array(19),\n",
      "    \u001b[32mfc1__w\u001b[0m\u001b[35m:\u001b[0m ivy.array(24128),\n",
      "    \u001b[32mfc2__b\u001b[0m\u001b[35m:\u001b[0m ivy.array(0),\n",
      "    \u001b[32mfc2__w\u001b[0m\u001b[35m:\u001b[0m ivy.array(253)\n",
      "\u001b[34m}\u001b[0m\n"
     ]
    },
    {
     "name": "stderr",
     "output_type": "stream",
     "text": [
      "100%|█████████▉| 421/422 [13:18<00:01,  1.75s/it]"
     ]
    },
    {
     "name": "stdout",
     "output_type": "stream",
     "text": [
      "\u001b[34m{\u001b[0m\n",
      "    \u001b[32mfc1__b\u001b[0m\u001b[35m:\u001b[0m ivy.array(19),\n",
      "    \u001b[32mfc1__w\u001b[0m\u001b[35m:\u001b[0m ivy.array(24129),\n",
      "    \u001b[32mfc2__b\u001b[0m\u001b[35m:\u001b[0m ivy.array(0),\n",
      "    \u001b[32mfc2__w\u001b[0m\u001b[35m:\u001b[0m ivy.array(257)\n",
      "\u001b[34m}\u001b[0m\n"
     ]
    },
    {
     "name": "stderr",
     "output_type": "stream",
     "text": [
      "                                                 "
     ]
    },
    {
     "name": "stdout",
     "output_type": "stream",
     "text": [
      "\u001b[34m{\u001b[0m\n",
      "    \u001b[32mfc1__b\u001b[0m\u001b[35m:\u001b[0m ivy.array(19),\n",
      "    \u001b[32mfc1__w\u001b[0m\u001b[35m:\u001b[0m ivy.array(24129),\n",
      "    \u001b[32mfc2__b\u001b[0m\u001b[35m:\u001b[0m ivy.array(0),\n",
      "    \u001b[32mfc2__w\u001b[0m\u001b[35m:\u001b[0m ivy.array(259)\n",
      "\u001b[34m}\u001b[0m\n"
     ]
    },
    {
     "name": "stderr",
     "output_type": "stream",
     "text": [
      "\r"
     ]
    },
    {
     "name": "stdout",
     "output_type": "stream",
     "text": [
      " 0 0.089\n"
     ]
    },
    {
     "name": "stderr",
     "output_type": "stream",
     "text": [
      "  0%|          | 1/422 [00:01<11:19,  1.61s/it]"
     ]
    },
    {
     "name": "stdout",
     "output_type": "stream",
     "text": [
      "\u001b[34m{\u001b[0m\n",
      "    \u001b[32mfc1__b\u001b[0m\u001b[35m:\u001b[0m ivy.array(19),\n",
      "    \u001b[32mfc1__w\u001b[0m\u001b[35m:\u001b[0m ivy.array(24129),\n",
      "    \u001b[32mfc2__b\u001b[0m\u001b[35m:\u001b[0m ivy.array(0),\n",
      "    \u001b[32mfc2__w\u001b[0m\u001b[35m:\u001b[0m ivy.array(262)\n",
      "\u001b[34m}\u001b[0m\n"
     ]
    },
    {
     "name": "stderr",
     "output_type": "stream",
     "text": [
      "  0%|          | 2/422 [00:03<13:01,  1.86s/it]"
     ]
    },
    {
     "name": "stdout",
     "output_type": "stream",
     "text": [
      "\u001b[34m{\u001b[0m\n",
      "    \u001b[32mfc1__b\u001b[0m\u001b[35m:\u001b[0m ivy.array(19),\n",
      "    \u001b[32mfc1__w\u001b[0m\u001b[35m:\u001b[0m ivy.array(24129),\n",
      "    \u001b[32mfc2__b\u001b[0m\u001b[35m:\u001b[0m ivy.array(0),\n",
      "    \u001b[32mfc2__w\u001b[0m\u001b[35m:\u001b[0m ivy.array(265)\n",
      "\u001b[34m}\u001b[0m\n"
     ]
    },
    {
     "name": "stderr",
     "output_type": "stream",
     "text": [
      "  1%|          | 3/422 [00:05<14:16,  2.05s/it]"
     ]
    },
    {
     "name": "stdout",
     "output_type": "stream",
     "text": [
      "\u001b[34m{\u001b[0m\n",
      "    \u001b[32mfc1__b\u001b[0m\u001b[35m:\u001b[0m ivy.array(19),\n",
      "    \u001b[32mfc1__w\u001b[0m\u001b[35m:\u001b[0m ivy.array(24129),\n",
      "    \u001b[32mfc2__b\u001b[0m\u001b[35m:\u001b[0m ivy.array(0),\n",
      "    \u001b[32mfc2__w\u001b[0m\u001b[35m:\u001b[0m ivy.array(267)\n",
      "\u001b[34m}\u001b[0m\n"
     ]
    },
    {
     "name": "stderr",
     "output_type": "stream",
     "text": [
      "  1%|          | 4/422 [00:07<13:33,  1.95s/it]"
     ]
    },
    {
     "name": "stdout",
     "output_type": "stream",
     "text": [
      "\u001b[34m{\u001b[0m\n",
      "    \u001b[32mfc1__b\u001b[0m\u001b[35m:\u001b[0m ivy.array(19),\n",
      "    \u001b[32mfc1__w\u001b[0m\u001b[35m:\u001b[0m ivy.array(24129),\n",
      "    \u001b[32mfc2__b\u001b[0m\u001b[35m:\u001b[0m ivy.array(0),\n",
      "    \u001b[32mfc2__w\u001b[0m\u001b[35m:\u001b[0m ivy.array(269)\n",
      "\u001b[34m}\u001b[0m\n"
     ]
    },
    {
     "name": "stderr",
     "output_type": "stream",
     "text": [
      "  1%|          | 5/422 [00:09<12:39,  1.82s/it]"
     ]
    },
    {
     "name": "stdout",
     "output_type": "stream",
     "text": [
      "\u001b[34m{\u001b[0m\n",
      "    \u001b[32mfc1__b\u001b[0m\u001b[35m:\u001b[0m ivy.array(19),\n",
      "    \u001b[32mfc1__w\u001b[0m\u001b[35m:\u001b[0m ivy.array(24129),\n",
      "    \u001b[32mfc2__b\u001b[0m\u001b[35m:\u001b[0m ivy.array(0),\n",
      "    \u001b[32mfc2__w\u001b[0m\u001b[35m:\u001b[0m ivy.array(270)\n",
      "\u001b[34m}\u001b[0m\n"
     ]
    },
    {
     "name": "stderr",
     "output_type": "stream",
     "text": [
      "  1%|▏         | 6/422 [00:11<12:35,  1.82s/it]"
     ]
    },
    {
     "name": "stdout",
     "output_type": "stream",
     "text": [
      "\u001b[34m{\u001b[0m\n",
      "    \u001b[32mfc1__b\u001b[0m\u001b[35m:\u001b[0m ivy.array(19),\n",
      "    \u001b[32mfc1__w\u001b[0m\u001b[35m:\u001b[0m ivy.array(24129),\n",
      "    \u001b[32mfc2__b\u001b[0m\u001b[35m:\u001b[0m ivy.array(0),\n",
      "    \u001b[32mfc2__w\u001b[0m\u001b[35m:\u001b[0m ivy.array(272)\n",
      "\u001b[34m}\u001b[0m\n"
     ]
    },
    {
     "name": "stderr",
     "output_type": "stream",
     "text": [
      "  2%|▏         | 7/422 [00:13<13:07,  1.90s/it]"
     ]
    },
    {
     "name": "stdout",
     "output_type": "stream",
     "text": [
      "\u001b[34m{\u001b[0m\n",
      "    \u001b[32mfc1__b\u001b[0m\u001b[35m:\u001b[0m ivy.array(19),\n",
      "    \u001b[32mfc1__w\u001b[0m\u001b[35m:\u001b[0m ivy.array(24129),\n",
      "    \u001b[32mfc2__b\u001b[0m\u001b[35m:\u001b[0m ivy.array(0),\n",
      "    \u001b[32mfc2__w\u001b[0m\u001b[35m:\u001b[0m ivy.array(273)\n",
      "\u001b[34m}\u001b[0m\n"
     ]
    },
    {
     "name": "stderr",
     "output_type": "stream",
     "text": [
      "  2%|▏         | 8/422 [00:14<12:37,  1.83s/it]"
     ]
    },
    {
     "name": "stdout",
     "output_type": "stream",
     "text": [
      "\u001b[34m{\u001b[0m\n",
      "    \u001b[32mfc1__b\u001b[0m\u001b[35m:\u001b[0m ivy.array(19),\n",
      "    \u001b[32mfc1__w\u001b[0m\u001b[35m:\u001b[0m ivy.array(24129),\n",
      "    \u001b[32mfc2__b\u001b[0m\u001b[35m:\u001b[0m ivy.array(0),\n",
      "    \u001b[32mfc2__w\u001b[0m\u001b[35m:\u001b[0m ivy.array(274)\n",
      "\u001b[34m}\u001b[0m\n"
     ]
    },
    {
     "name": "stderr",
     "output_type": "stream",
     "text": [
      "  2%|▏         | 9/422 [00:16<12:15,  1.78s/it]"
     ]
    },
    {
     "name": "stdout",
     "output_type": "stream",
     "text": [
      "\u001b[34m{\u001b[0m\n",
      "    \u001b[32mfc1__b\u001b[0m\u001b[35m:\u001b[0m ivy.array(19),\n",
      "    \u001b[32mfc1__w\u001b[0m\u001b[35m:\u001b[0m ivy.array(24131),\n",
      "    \u001b[32mfc2__b\u001b[0m\u001b[35m:\u001b[0m ivy.array(0),\n",
      "    \u001b[32mfc2__w\u001b[0m\u001b[35m:\u001b[0m ivy.array(277)\n",
      "\u001b[34m}\u001b[0m\n"
     ]
    },
    {
     "name": "stderr",
     "output_type": "stream",
     "text": [
      "  2%|▏         | 10/422 [00:18<11:50,  1.72s/it]"
     ]
    }
   ],
   "source": [
    "data = ml_datasets.mnist()\n",
    "optimizer = Adam(0.001)\n",
    "model.initialize(X=train_X[:5], Y=train_Y[:5])\n",
    "train_model(data, model, optimizer, n_iter=10, batch_size=128)"
   ]
  },
  {
   "cell_type": "code",
   "execution_count": null,
   "metadata": {},
   "outputs": [],
   "source": []
  }
 ],
 "metadata": {
  "kernelspec": {
   "display_name": "thinc",
   "language": "python",
   "name": "python3"
  },
  "language_info": {
   "codemirror_mode": {
    "name": "ipython",
    "version": 3
   },
   "file_extension": ".py",
   "mimetype": "text/x-python",
   "name": "python",
   "nbconvert_exporter": "python",
   "pygments_lexer": "ipython3",
   "version": "3.10.0"
  },
  "orig_nbformat": 4
 },
 "nbformat": 4,
 "nbformat_minor": 2
}
